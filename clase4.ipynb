{
 "cells": [
  {
   "cell_type": "markdown",
   "id": "86064b59",
   "metadata": {},
   "source": [
    "Conversion de Tipos"
   ]
  },
  {
   "cell_type": "code",
   "execution_count": 1,
   "id": "d6a74932",
   "metadata": {},
   "outputs": [
    {
     "name": "stdout",
     "output_type": "stream",
     "text": [
      "int a float: 7.0\n",
      "int a str: 7\n",
      "float a int: 3\n",
      "Redondeado a 2 decimales: 3.14\n",
      "str a int: 123\n",
      "str a float: 45.67\n"
     ]
    }
   ],
   "source": [
    "# Ejemplo 1: Conversión de tipos (casting explícito)\n",
    "entero = 7\n",
    "decimal = float(entero)  # int a float\n",
    "texto_numero = str(entero)  # int a str\n",
    "\n",
    "print(\"int a float:\", decimal)\n",
    "print(\"int a str:\", texto_numero)\n",
    "\n",
    "# Ejemplo 2: Casting explícito de float a int (pierde decimales)\n",
    "numero_decimal = 3.14\n",
    "entero_desde_float = int(numero_decimal)\n",
    "print(\"float a int:\", entero_desde_float)\n",
    "\n",
    "# Ejemplo 3: Redondeo de números decimales\n",
    "numero_decimal = 3.14159\n",
    "redondeado = round(numero_decimal, 2)  # Redondea a 2 decimales\n",
    "print(\"Redondeado a 2 decimales:\", redondeado)\n",
    "\n",
    "# Ejemplo 4: Conversión de str a int y float\n",
    "texto_entero = \"123\"\n",
    "texto_decimal = \"45.67\"\n",
    "entero_desde_str = int(texto_entero)\n",
    "decimal_desde_str = float(texto_decimal)\n",
    "print(\"str a int:\", entero_desde_str)\n",
    "print(\"str a float:\", decimal_desde_str)"
   ]
  }
 ],
 "metadata": {
  "kernelspec": {
   "display_name": "Python 3",
   "language": "python",
   "name": "python3"
  },
  "language_info": {
   "codemirror_mode": {
    "name": "ipython",
    "version": 3
   },
   "file_extension": ".py",
   "mimetype": "text/x-python",
   "name": "python",
   "nbconvert_exporter": "python",
   "pygments_lexer": "ipython3",
   "version": "3.13.7"
  }
 },
 "nbformat": 4,
 "nbformat_minor": 5
}
