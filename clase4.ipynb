{
 "cells": [
  {
   "cell_type": "markdown",
   "id": "86064b59",
   "metadata": {},
   "source": [
    "Conversion de Tipos"
   ]
  },
  {
   "cell_type": "code",
   "execution_count": 1,
   "id": "d6a74932",
   "metadata": {},
   "outputs": [
    {
     "name": "stdout",
     "output_type": "stream",
     "text": [
      "int a float: 7.0\n",
      "int a str: 7\n",
      "float a int: 3\n",
      "Redondeado a 2 decimales: 3.14\n",
      "str a int: 123\n",
      "str a float: 45.67\n"
     ]
    }
   ],
   "source": [
    "# Ejemplo 1: Conversión de tipos (casting explícito)\n",
    "entero = 7\n",
    "decimal = float(entero)  # int a float\n",
    "texto_numero = str(entero)  # int a str\n",
    "\n",
    "print(\"int a float:\", decimal)\n",
    "print(\"int a str:\", texto_numero)\n",
    "\n",
    "# Ejemplo 2: Casting explícito de float a int (pierde decimales)\n",
    "numero_decimal = 3.14\n",
    "entero_desde_float = int(numero_decimal)\n",
    "print(\"float a int:\", entero_desde_float)\n",
    "\n",
    "# Ejemplo 3: Redondeo de números decimales\n",
    "numero_decimal = 3.14159\n",
    "redondeado = round(numero_decimal, 2)  # Redondea a 2 decimales\n",
    "print(\"Redondeado a 2 decimales:\", redondeado)\n",
    "\n",
    "# Ejemplo 4: Conversión de str a int y float\n",
    "texto_entero = \"123\"\n",
    "texto_decimal = \"45.67\"\n",
    "entero_desde_str = int(texto_entero)\n",
    "decimal_desde_str = float(texto_decimal)\n",
    "print(\"str a int:\", entero_desde_str)\n",
    "print(\"str a float:\", decimal_desde_str)"
   ]
  },
  {
   "cell_type": "markdown",
   "id": "719deba2",
   "metadata": {},
   "source": [
    "## Caracteristicas de las Colecciones\n",
    "## Caracteristicas de las Colecciones\n",
    "\n",
    "| Tipo de colección | Sintaxis         | Mutabilidad | Ordenado | Permite duplicados | Acceso por índice | Uso típico                                      |\n",
    "|-------------------|------------------|-------------|----------|---------------------|-------------------|------------------------------------------------|\n",
    "| `list` (lista)    | `[1, 2, 3]`       | ✅ Sí       | ✅ Sí    | ✅ Sí               | ✅ Sí             | Secuencia de elementos modificables            |\n",
    "| `tuple` (tupla)   | `(1, 2, 3)`       | ❌ No       | ✅ Sí    | ✅ Sí               | ✅ Sí             | Datos constantes o protegidos contra cambios   |\n",
    "| `set` (conjunto)  | `{1, 2, 3}`       | ✅ Sí       | ❌ No    | ❌ No               | ❌ No             | Agrupar elementos únicos, operaciones de conjunto |\n",
    "| `dict` (diccionario) | `{\"a\": 1, \"b\": 2}` | ✅ Sí   | ✅ Sí    | ❌ Claves únicas     | ✅ Por clave      | Asociación clave-valor, estructuras jerárquicas |\n",
    "\n",
    "\n",
    "- **Sintaxis**: Forma en que se define cada tipo de colección en Python. Por ejemplo, listas usan corchetes `[ ]`, tuplas paréntesis `( )`, sets llaves `{ }`, y diccionarios también llaves `{ }` pero con pares `clave: valor`.\n",
    "\n",
    "- **Mutabilidad**: Indica si los elementos de la colección pueden modificarse después de su creación. Las listas, sets y diccionarios son mutables; las tuplas no.\n",
    "\n",
    "- **Ordenado**: Señala si los elementos mantienen el orden en que fueron definidos. Las listas, tuplas y diccionarios (desde Python 3.7+) sí lo hacen; los sets no.\n",
    "\n",
    "- **Permite duplicados**: Define si se pueden repetir elementos dentro de la colección. Las listas y tuplas permiten duplicados; los sets y las claves de los diccionarios no.\n",
    "\n",
    "- **Acceso por índice**: Indica si se puede acceder a los elementos usando índices numéricos. Solo listas y tuplas permiten acceso por índice; los sets no, y los diccionarios usan claves.\n",
    "\n",
    "- **Uso típico**: Describe el propósito común de cada colección. Por ejemplo:\n",
    "  - Listas: secuencias modificables.\n",
    "  - Tuplas: datos constantes.\n",
    "  - Sets: agrupación sin duplicados.\n",
    "  - Diccionarios: asociación clave-valor.\n",
    "- **Sintaxis**: Forma en que se define cada tipo de colección en Python. Por ejemplo, listas usan corchetes `[ ]`, tuplas paréntesis `( )`, sets llaves `{ }`, y diccionarios también llaves `{ }` pero con pares `clave: valor`.\n",
    "\n",
    "- **Mutabilidad**: Indica si los elementos de la colección pueden modificarse después de su creación. Las listas, sets y diccionarios son mutables; las tuplas no.\n",
    "\n",
    "- **Ordenado**: Señala si los elementos mantienen el orden en que fueron definidos. Las listas, tuplas y diccionarios (desde Python 3.7+) sí lo hacen; los sets no.\n",
    "\n",
    "- **Permite duplicados**: Define si se pueden repetir elementos dentro de la colección. Las listas y tuplas permiten duplicados; los sets y las claves de los diccionarios no.\n",
    "\n",
    "- **Acceso por índice**: Indica si se puede acceder a los elementos usando índices numéricos. Solo listas y tuplas permiten acceso por índice; los sets no, y los diccionarios usan claves.\n",
    "\n",
    "- **Uso típico**: Describe el propósito común de cada colección. Por ejemplo:\n",
    "  - Listas: secuencias modificables.\n",
    "  - Tuplas: datos constantes.\n",
    "  - Sets: agrupación sin duplicados.\n",
    "  - Diccionarios: asociación clave-valor.\n"
   ]
  }
 ],
 "metadata": {
  "kernelspec": {
   "display_name": "Python 3",
   "language": "python",
   "name": "python3"
  },
  "language_info": {
   "codemirror_mode": {
    "name": "ipython",
    "version": 3
   },
   "file_extension": ".py",
   "mimetype": "text/x-python",
   "name": "python",
   "nbconvert_exporter": "python",
   "pygments_lexer": "ipython3",
   "version": "3.13.7"
  }
 },
 "nbformat": 4,
 "nbformat_minor": 5
}
